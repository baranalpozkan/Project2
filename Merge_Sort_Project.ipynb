{
 "cells": [
  {
   "cell_type": "code",
   "execution_count": null,
   "id": "5185905c-cbc3-4af4-a8ce-20d4e72f05fa",
   "metadata": {},
   "outputs": [],
   "source": [
    "Proje 2\n",
    "[16,21,11,8,12,22] -> Merge Sort\n",
    "\n",
    "Yukarıdaki dizinin sort türüne göre aşamalarını yazınız.\n",
    "Big-O gösterimini yazınız."
   ]
  },
  {
   "cell_type": "code",
   "execution_count": null,
   "id": "d369803c-ece6-4109-8d68-28061be889cf",
   "metadata": {},
   "outputs": [],
   "source": [
    "Answers:\n",
    "    \n",
    "1- n1-> [16,21,11], [8,12,22]; n2-> [16], [21,11], [8], [12,22]; n3->[16], [11,21], [8], [12,22]; n4-> [11,16,21], [8,12,22]; n5-> [8,11,12,16,21,22]\n",
    "2- O(nlogn)"
   ]
  }
 ],
 "metadata": {
  "kernelspec": {
   "display_name": "Python 3 (ipykernel)",
   "language": "python",
   "name": "python3"
  },
  "language_info": {
   "codemirror_mode": {
    "name": "ipython",
    "version": 3
   },
   "file_extension": ".py",
   "mimetype": "text/x-python",
   "name": "python",
   "nbconvert_exporter": "python",
   "pygments_lexer": "ipython3",
   "version": "3.8.8"
  }
 },
 "nbformat": 4,
 "nbformat_minor": 5
}
